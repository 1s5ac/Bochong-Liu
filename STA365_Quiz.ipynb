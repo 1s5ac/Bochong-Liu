{
  "nbformat": 4,
  "nbformat_minor": 0,
  "metadata": {
    "colab": {
      "provenance": [],
      "authorship_tag": "ABX9TyNHSBc4YYVURp0cFyuH+ZLy",
      "include_colab_link": true
    },
    "kernelspec": {
      "name": "python3",
      "display_name": "Python 3"
    },
    "language_info": {
      "name": "python"
    }
  },
  "cells": [
    {
      "cell_type": "markdown",
      "metadata": {
        "id": "view-in-github",
        "colab_type": "text"
      },
      "source": [
        "<a href=\"https://colab.research.google.com/github/1s5ac/STA365_HW/blob/main/STA365_Quiz.ipynb\" target=\"_parent\"><img src=\"https://colab.research.google.com/assets/colab-badge.svg\" alt=\"Open In Colab\"/></a>"
      ]
    },
    {
      "cell_type": "markdown",
      "source": [
        "1. x^(t) counts chip brand purchases over time. As it follows a multinomial distribution, brands with higher purchase probabilities will see faster count increases."
      ],
      "metadata": {
        "id": "i7dU-YCDwxwG"
      }
    },
    {
      "cell_type": "markdown",
      "source": [
        "2. Bayesian analysis suggests that beliefs about the \"best chips\" over time are updated by a Dirichlet distribution, with each new purchase data adjusting its parameters.  The Dirichlet distribution is parameterized by a vector lambda, which would be updated with each observation. The posterior distribution after observing x^(t) is a Dirichlet distribution with parameters lambda+x^(t)."
      ],
      "metadata": {
        "id": "HWUd7xfEw-JT"
      }
    },
    {
      "cell_type": "markdown",
      "source": [
        "3."
      ],
      "metadata": {
        "id": "ni1kvWRQxqPq"
      }
    },
    {
      "cell_type": "code",
      "source": [
        "import numpy as np\n",
        "from scipy.stats import dirichlet\n",
        "\n",
        "alpha = np.array([2, 5, 2, 1])\n",
        "size = 10000\n",
        "\n",
        "samples = dirichlet(alpha).rvs(size=size)\n",
        "j = 1\n",
        "p_j_samples = samples[:, j]"
      ],
      "metadata": {
        "id": "O2s-GFLJx2bP"
      },
      "execution_count": 5,
      "outputs": []
    },
    {
      "cell_type": "markdown",
      "source": [
        "4."
      ],
      "metadata": {
        "id": "HBMNi_Rr0PGU"
      }
    },
    {
      "cell_type": "code",
      "source": [
        "import numpy as np\n",
        "from scipy.stats import dirichlet\n",
        "\n",
        "alpha = np.array([2, 5, 2, 1])\n",
        "size = 10000\n",
        "samples = dirichlet(alpha).rvs(size=size)\n",
        "q = 0.3\n",
        "j = 1\n",
        "prob_p_j_greater_than_q = np.mean(samples[:, j] > q)\n",
        "prob_p_j_greater_than_q\n"
      ],
      "metadata": {
        "colab": {
          "base_uri": "https://localhost:8080/"
        },
        "id": "KACK3dXm0QQL",
        "outputId": "37984980-3e88-4397-8743-dd5975abf921"
      },
      "execution_count": 7,
      "outputs": [
        {
          "output_type": "execute_result",
          "data": {
            "text/plain": [
              "0.897"
            ]
          },
          "metadata": {},
          "execution_count": 7
        }
      ]
    },
    {
      "cell_type": "markdown",
      "source": [
        "5. The interval is [0.2103,  0.7904]"
      ],
      "metadata": {
        "id": "OSmxRV6j0wVh"
      }
    },
    {
      "cell_type": "code",
      "source": [
        "j = 1\n",
        "credible_interval = np.percentile(samples[:, j], [2.5, 97.5])\n",
        "credible_interval\n"
      ],
      "metadata": {
        "colab": {
          "base_uri": "https://localhost:8080/"
        },
        "id": "j3FrU4Nb1faH",
        "outputId": "b8bf0425-54a2-433c-abe4-4e72c38bbfad"
      },
      "execution_count": 8,
      "outputs": [
        {
          "output_type": "execute_result",
          "data": {
            "text/plain": [
              "array([0.21030755, 0.79037052])"
            ]
          },
          "metadata": {},
          "execution_count": 8
        }
      ]
    },
    {
      "cell_type": "markdown",
      "source": [
        "6."
      ],
      "metadata": {
        "id": "jI62rSJJ1M__"
      }
    },
    {
      "cell_type": "code",
      "source": [
        "import numpy as np\n",
        "from scipy.stats import dirichlet\n",
        "\n",
        "alpha = np.array([2, 5, 2, 1])\n",
        "size = 10000\n",
        "\n",
        "samples = dirichlet(alpha).rvs(size=size)\n",
        "j = 1\n",
        "j_prime = 2\n",
        "\n",
        "prob_p_j_greater_than_p_j_prime = np.mean(samples[:, j] > samples[:, j_prime])\n",
        "prob_p_j_greater_than_p_j_prime\n"
      ],
      "metadata": {
        "colab": {
          "base_uri": "https://localhost:8080/"
        },
        "id": "pdPtB0-n2OHj",
        "outputId": "935af31a-b084-49ec-bc6e-d659cc0646ab"
      },
      "execution_count": 9,
      "outputs": [
        {
          "output_type": "execute_result",
          "data": {
            "text/plain": [
              "0.8921"
            ]
          },
          "metadata": {},
          "execution_count": 9
        }
      ]
    },
    {
      "cell_type": "markdown",
      "source": [
        "7."
      ],
      "metadata": {
        "id": "caJV_PBV2ySp"
      }
    },
    {
      "cell_type": "code",
      "source": [
        "import numpy as np\n",
        "from scipy.stats import dirichlet\n",
        "\n",
        "alpha = np.array([2, 5, 2, 1])\n",
        "size = 10000\n",
        "\n",
        "samples = dirichlet(alpha).rvs(size=size)\n",
        "j = 1\n",
        "j_prime = 2\n",
        "\n",
        "ratios = samples[:, j] / samples[:, j_prime]\n",
        "interval_estimate = np.percentile(ratios, [2.5, 97.5])\n",
        "interval_estimate"
      ],
      "metadata": {
        "colab": {
          "base_uri": "https://localhost:8080/"
        },
        "id": "P4RJv2qh20GK",
        "outputId": "5be8041a-e68a-4b45-8f91-16a08368c7ad"
      },
      "execution_count": 10,
      "outputs": [
        {
          "output_type": "execute_result",
          "data": {
            "text/plain": [
              "array([ 0.55483479, 22.67058907])"
            ]
          },
          "metadata": {},
          "execution_count": 10
        }
      ]
    },
    {
      "cell_type": "markdown",
      "source": [
        "8."
      ],
      "metadata": {
        "id": "KD_c9BQw2_kN"
      }
    },
    {
      "cell_type": "code",
      "source": [
        "import numpy as np\n",
        "from scipy.stats import dirichlet\n",
        "\n",
        "alpha = np.array([2, 5, 2, 1])\n",
        "size = 10000\n",
        "\n",
        "samples = dirichlet(alpha).rvs(size=size)\n",
        "j = 1\n",
        "j_prime = 2\n",
        "\n",
        "differences = samples[:, j] - samples[:, j_prime]\n",
        "interval_estimate_difference = np.percentile(differences, [2.5, 97.5])\n",
        "interval_estimate_difference"
      ],
      "metadata": {
        "colab": {
          "base_uri": "https://localhost:8080/"
        },
        "id": "D9VGm2aO3AhU",
        "outputId": "8ab49d07-70d9-436a-a858-56ac683cfcdb"
      },
      "execution_count": 11,
      "outputs": [
        {
          "output_type": "execute_result",
          "data": {
            "text/plain": [
              "array([-0.19741925,  0.71507471])"
            ]
          },
          "metadata": {},
          "execution_count": 11
        }
      ]
    },
    {
      "cell_type": "markdown",
      "source": [
        "9. The ratios and the differences are measures of relative and absolute advantage, respectively. For (j, j') = (2, 3), since p_2 and p_3 are\n",
        "quite close in value, the ratio p_2/p_3 is likely to be close to 1,\n",
        "indicating that neither brand is strongly preferred over the other. The difference p_2-p_3 would also be small, reflecting a small absolute advantage.\n",
        "The ratio is important when assessing preference strength or dominance of one option over another, while the difference is important when assessing the absolute advantage in terms of probability."
      ],
      "metadata": {
        "id": "JUVB5PlO347p"
      }
    },
    {
      "cell_type": "markdown",
      "source": [
        "10. If we are examining p_4 and p_5 over time t, assuming that the number of trials (chip purchases) is very large, we would expect the counts of brands 4 and 5 to reflect their probabilities. As t increases, the law of large numbers suggests that the observed frequencies x_4 and x_5 should converge to their expected values, which are np_4 and np_5, respectively. Therefore, the difference in counts should also reflect the probability difference."
      ],
      "metadata": {
        "id": "q2DMlDtq5UQ3"
      }
    }
  ]
}