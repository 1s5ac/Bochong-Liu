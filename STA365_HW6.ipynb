{
  "nbformat": 4,
  "nbformat_minor": 0,
  "metadata": {
    "colab": {
      "provenance": [],
      "authorship_tag": "ABX9TyP0cElOosChfODjU+Y0/gHB",
      "include_colab_link": true
    },
    "kernelspec": {
      "name": "python3",
      "display_name": "Python 3"
    },
    "language_info": {
      "name": "python"
    }
  },
  "cells": [
    {
      "cell_type": "markdown",
      "metadata": {
        "id": "view-in-github",
        "colab_type": "text"
      },
      "source": [
        "<a href=\"https://colab.research.google.com/github/1s5ac/STA365_HW/blob/main/STA365_HW6.ipynb\" target=\"_parent\"><img src=\"https://colab.research.google.com/assets/colab-badge.svg\" alt=\"Open In Colab\"/></a>"
      ]
    },
    {
      "cell_type": "code",
      "execution_count": 1,
      "metadata": {
        "colab": {
          "base_uri": "https://localhost:8080/",
          "height": 189
        },
        "id": "CVXy06oCqZ_5",
        "outputId": "ceb78605-d505-4823-f534-d0de074b2ea3"
      },
      "outputs": [
        {
          "output_type": "display_data",
          "data": {
            "text/plain": [
              "<IPython.core.display.HTML object>"
            ],
            "text/html": [
              "\n",
              "<style>\n",
              "    /* Turns off some styling */\n",
              "    progress {\n",
              "        /* gets rid of default border in Firefox and Opera. */\n",
              "        border: none;\n",
              "        /* Needs to be in here for Safari polyfill so background images work as expected. */\n",
              "        background-size: auto;\n",
              "    }\n",
              "    progress:not([value]), progress:not([value])::-webkit-progress-bar {\n",
              "        background: repeating-linear-gradient(45deg, #7e7e7e, #7e7e7e 10px, #5c5c5c 10px, #5c5c5c 20px);\n",
              "    }\n",
              "    .progress-bar-interrupted, .progress-bar-interrupted::-webkit-progress-bar {\n",
              "        background: #F44336;\n",
              "    }\n",
              "</style>\n"
            ]
          },
          "metadata": {}
        },
        {
          "output_type": "display_data",
          "data": {
            "text/plain": [
              "<IPython.core.display.HTML object>"
            ],
            "text/html": [
              "\n",
              "    <div>\n",
              "      <progress value='2000' class='' max='2000' style='width:300px; height:20px; vertical-align: middle;'></progress>\n",
              "      100.00% [2000/2000 00:07&lt;00:00 Sampling chain 0, 0 divergences]\n",
              "    </div>\n",
              "    "
            ]
          },
          "metadata": {}
        },
        {
          "output_type": "display_data",
          "data": {
            "text/plain": [
              "<IPython.core.display.HTML object>"
            ],
            "text/html": [
              "\n",
              "<style>\n",
              "    /* Turns off some styling */\n",
              "    progress {\n",
              "        /* gets rid of default border in Firefox and Opera. */\n",
              "        border: none;\n",
              "        /* Needs to be in here for Safari polyfill so background images work as expected. */\n",
              "        background-size: auto;\n",
              "    }\n",
              "    progress:not([value]), progress:not([value])::-webkit-progress-bar {\n",
              "        background: repeating-linear-gradient(45deg, #7e7e7e, #7e7e7e 10px, #5c5c5c 10px, #5c5c5c 20px);\n",
              "    }\n",
              "    .progress-bar-interrupted, .progress-bar-interrupted::-webkit-progress-bar {\n",
              "        background: #F44336;\n",
              "    }\n",
              "</style>\n"
            ]
          },
          "metadata": {}
        },
        {
          "output_type": "display_data",
          "data": {
            "text/plain": [
              "<IPython.core.display.HTML object>"
            ],
            "text/html": [
              "\n",
              "    <div>\n",
              "      <progress value='2000' class='' max='2000' style='width:300px; height:20px; vertical-align: middle;'></progress>\n",
              "      100.00% [2000/2000 00:08&lt;00:00 Sampling chain 1, 0 divergences]\n",
              "    </div>\n",
              "    "
            ]
          },
          "metadata": {}
        },
        {
          "output_type": "stream",
          "name": "stdout",
          "text": [
            "Ridge Regression Loss: 215.93613136787422\n",
            "Lasso Regression Loss: 215.90725352689697\n",
            "Bayesians do not optimize posterior distributions, they sample from them; but, the posterior distributions are nonetheless 'regularizations' of the likelihood through the prior.\n"
          ]
        },
        {
          "output_type": "display_data",
          "data": {
            "text/plain": [
              "<IPython.core.display.HTML object>"
            ],
            "text/html": [
              "\n",
              "<style>\n",
              "    /* Turns off some styling */\n",
              "    progress {\n",
              "        /* gets rid of default border in Firefox and Opera. */\n",
              "        border: none;\n",
              "        /* Needs to be in here for Safari polyfill so background images work as expected. */\n",
              "        background-size: auto;\n",
              "    }\n",
              "    progress:not([value]), progress:not([value])::-webkit-progress-bar {\n",
              "        background: repeating-linear-gradient(45deg, #7e7e7e, #7e7e7e 10px, #5c5c5c 10px, #5c5c5c 20px);\n",
              "    }\n",
              "    .progress-bar-interrupted, .progress-bar-interrupted::-webkit-progress-bar {\n",
              "        background: #F44336;\n",
              "    }\n",
              "</style>\n"
            ]
          },
          "metadata": {}
        },
        {
          "output_type": "display_data",
          "data": {
            "text/plain": [
              "<IPython.core.display.HTML object>"
            ],
            "text/html": [
              "\n",
              "    <div>\n",
              "      <progress value='2000' class='' max='2000' style='width:300px; height:20px; vertical-align: middle;'></progress>\n",
              "      100.00% [2000/2000 00:10&lt;00:00 Sampling chain 0, 0 divergences]\n",
              "    </div>\n",
              "    "
            ]
          },
          "metadata": {}
        },
        {
          "output_type": "display_data",
          "data": {
            "text/plain": [
              "<IPython.core.display.HTML object>"
            ],
            "text/html": [
              "\n",
              "<style>\n",
              "    /* Turns off some styling */\n",
              "    progress {\n",
              "        /* gets rid of default border in Firefox and Opera. */\n",
              "        border: none;\n",
              "        /* Needs to be in here for Safari polyfill so background images work as expected. */\n",
              "        background-size: auto;\n",
              "    }\n",
              "    progress:not([value]), progress:not([value])::-webkit-progress-bar {\n",
              "        background: repeating-linear-gradient(45deg, #7e7e7e, #7e7e7e 10px, #5c5c5c 10px, #5c5c5c 20px);\n",
              "    }\n",
              "    .progress-bar-interrupted, .progress-bar-interrupted::-webkit-progress-bar {\n",
              "        background: #F44336;\n",
              "    }\n",
              "</style>\n"
            ]
          },
          "metadata": {}
        },
        {
          "output_type": "display_data",
          "data": {
            "text/plain": [
              "<IPython.core.display.HTML object>"
            ],
            "text/html": [
              "\n",
              "    <div>\n",
              "      <progress value='2000' class='' max='2000' style='width:300px; height:20px; vertical-align: middle;'></progress>\n",
              "      100.00% [2000/2000 00:09&lt;00:00 Sampling chain 1, 0 divergences]\n",
              "    </div>\n",
              "    "
            ]
          },
          "metadata": {}
        },
        {
          "output_type": "stream",
          "name": "stdout",
          "text": [
            "Potential outliers: [ 6 13 25 67 79]\n"
          ]
        }
      ],
      "source": [
        "import pandas as pd\n",
        "import pymc as pm\n",
        "import numpy as np\n",
        "import arviz as az\n",
        "\n",
        "# Load the dataset\n",
        "url = 'https://raw.githubusercontent.com/1s5ac/STA365_HW/main/psd_coffee.csv'\n",
        "data = pd.read_csv(url)\n",
        "\n",
        "\n",
        "# Part 1\n",
        "n,p=100,10; X,y=np.zeros((n,p)),np.ones((n,1))\n",
        "with pm.Model() as logistic_model:\n",
        "    # Priors for the regression coefficients\n",
        "    betas = pm.MvNormal('betas', mu=np.zeros((p,1)), cov=np.eye(p), shape=(p,1))\n",
        "    # Linear combination of features and weights\n",
        "    linear_comb = pm.math.dot(X, betas)\n",
        "    # Using a logit link function\n",
        "    p = pm.math.sigmoid(linear_comb)\n",
        "    # Bernoulli likelihood\n",
        "    y_obs = pm.Bernoulli('y_obs', p=p, observed=y)\n",
        "with logistic_model:\n",
        "    idata = pm.sample()\n",
        "\n",
        "# Part 2\n",
        "n_samples = 100\n",
        "n_features = 5\n",
        "\n",
        "X = np.random.randn(n_samples, n_features)\n",
        "y = np.random.randn(n_samples)\n",
        "beta = np.random.randn(n_features)\n",
        "\n",
        "# Hyperparameter lambda for the penalty terms\n",
        "lambda_ = 1.0\n",
        "\n",
        "# Ridge Regression loss function\n",
        "def ridge_loss(X, y, beta, lambda_):\n",
        "    prediction_error = np.sum((y - X.dot(beta)) ** 2)\n",
        "    regularization = lambda_ * np.sum(beta ** 2)\n",
        "    return 0.5 * prediction_error + regularization\n",
        "\n",
        "# Lasso Regression loss function\n",
        "def lasso_loss(X, y, beta, lambda_):\n",
        "    prediction_error = np.sum((y - X.dot(beta)) ** 2)\n",
        "    regularization = lambda_ * np.sum(np.abs(beta))\n",
        "    return 0.5 * prediction_error + regularization\n",
        "\n",
        "# Calculate the loss for both Ridge and Lasso\n",
        "ridge_reg_loss = ridge_loss(X, y, beta, lambda_)\n",
        "lasso_reg_loss = lasso_loss(X, y, beta, lambda_)\n",
        "\n",
        "# Print the losses\n",
        "print(\"Ridge Regression Loss:\", ridge_reg_loss)\n",
        "print(\"Lasso Regression Loss:\", lasso_reg_loss)\n",
        "print(\"Bayesians do not optimize posterior distributions, they sample from them; but, the posterior distributions are nonetheless 'regularizations' of the likelihood through the prior.\")\n",
        "\n",
        "\n",
        "# Part 3\n",
        "np.random.seed(42)\n",
        "n_samples = 100\n",
        "X = np.random.normal(size=(n_samples, 1))\n",
        "true_beta = 2.5\n",
        "mu = X * true_beta\n",
        "w = 1\n",
        "nu = 4\n",
        "\n",
        "# Simulating y with a normal distribution (for simplicity)\n",
        "y = np.random.normal(mu.flatten(), scale=w)\n",
        "\n",
        "# Robust regression model with explicit lambda modeling\n",
        "with pm.Model() as robust_model_with_lambda:\n",
        "    # Priors\n",
        "    beta = pm.Normal('beta', mu=0, sigma=10)\n",
        "    nu = pm.Exponential('nu', 1/29) + 1\n",
        "    lambda_i = pm.Gamma('lambda', alpha=nu/2, beta=nu/2, shape=n_samples)\n",
        "    sigma_i = pm.Deterministic('sigma_i', 1 / (lambda_i))\n",
        "\n",
        "    # Likelihood\n",
        "    likelihood = pm.Normal('y', mu=X[:,0]*beta, sigma=sigma_i, observed=y)\n",
        "\n",
        "    # Sampling\n",
        "    trace = pm.sample(1000, target_accept=0.9, return_inferencedata=True)\n",
        "\n",
        "# Identify outliers based on the posterior of lambda_i\n",
        "lambda_posterior = trace.posterior['lambda'].values\n",
        "lambda_mean = np.mean(lambda_posterior, axis=(0, 1))\n",
        "outlier_threshold = np.quantile(lambda_mean, 0.05)\n",
        "outliers = np.where(lambda_mean < outlier_threshold)[0]\n",
        "print(f\"Potential outliers: {outliers}\")\n",
        "\n"
      ]
    }
  ]
}